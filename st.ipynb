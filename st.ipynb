{
 "cells": [
  {
   "cell_type": "code",
   "execution_count": null,
   "metadata": {},
   "outputs": [],
   "source": [
    "#Import the necessary libraries"
   ]
  },
  {
   "cell_type": "code",
   "execution_count": null,
   "metadata": {},
   "outputs": [],
   "source": [
    "import datetime\n",
    "from datetime import datetime\n",
    "import pandas as pd\n",
    "import numpy as np\n",
    "import STDBSCAN\n",
    "import matplotlib.pyplot as plt"
   ]
  },
  {
   "cell_type": "code",
   "execution_count": null,
   "metadata": {},
   "outputs": [],
   "source": [
    "#rearrange the date_time data"
   ]
  },
  {
   "cell_type": "code",
   "execution_count": null,
   "metadata": {},
   "outputs": [],
   "source": [
    "def parse_dates(x):\n",
    "    return datetime.strptime(x, '%Y-%m-%d %H:%M:%S')  #'%Y-%m-%d %H:%M:%S.%f'"
   ]
  },
  {
   "cell_type": "code",
   "execution_count": null,
   "metadata": {},
   "outputs": [],
   "source": [
    "#this part makes the plot and returns the number of clusters"
   ]
  },
  {
   "cell_type": "code",
   "execution_count": null,
   "metadata": {},
   "outputs": [],
   "source": [
    "def plot_clusters(st_df, output_name):\n",
    "\n",
    "    labels = st_df['cluster'].values\n",
    "    loc = st_df[['longitude', 'latitude']].values\n",
    "    diff_labels = set(labels)\n",
    "    colors = [plt.get_cmap('Spectral')(each)\n",
    "              for each in np.linspace(0, 1, len(diff_labels))]\n",
    "    for k, col in zip(diff_labels, colors):\n",
    "        if k == -1:\n",
    "            col = [0, 0, 0, 1]\n",
    "\n",
    "        class_member_mask = (labels == k)\n",
    "\n",
    "        clusters = loc[class_member_mask]\n",
    "        plt.plot(clusters[:, 0], clusters[:, 1], 'o', markerfacecolor=tuple(col),\n",
    "                 markeredgecolor='k', markersize=6)\n",
    "\n",
    "    plt.show()\n",
    "    plt.savefig(output_name)\n",
    "    return len(diff_labels)"
   ]
  },
  {
   "cell_type": "code",
   "execution_count": null,
   "metadata": {},
   "outputs": [],
   "source": [
    "#main function"
   ]
  },
  {
   "cell_type": "code",
   "execution_count": null,
   "metadata": {},
   "outputs": [],
   "source": [
    "data = pd.read_csv(\"Yeni Metin Belgesi (2).csv\", sep=\";\", converters={'date_time': parse_dates})#this name of the file is temporary\n",
    "print(data)\n",
    "\n",
    "spatial_threshold = 0.5\n",
    "temporal_threshold = 0.5\n",
    "min_neighbors = 2\n",
    "st_data = STDBSCAN.ST_DBSCAN(data, spatial_threshold, temporal_threshold, min_neighbors)\n",
    "print(st_data)\n",
    "num_of_clusters = plot_clusters(st_data, \"out.jpg\")\n",
    "print(pd.value_counts(st_data['cluster']))\n",
    "print(num_of_clusters)"
   ]
  }
 ],
 "metadata": {
  "kernelspec": {
   "display_name": "Python 3",
   "language": "python",
   "name": "python3"
  },
  "language_info": {
   "codemirror_mode": {
    "name": "ipython",
    "version": 3
   },
   "file_extension": ".py",
   "mimetype": "text/x-python",
   "name": "python",
   "nbconvert_exporter": "python",
   "pygments_lexer": "ipython3",
   "version": "3.7.6"
  }
 },
 "nbformat": 4,
 "nbformat_minor": 4
}
